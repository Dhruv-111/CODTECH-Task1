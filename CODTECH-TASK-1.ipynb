{
  "nbformat": 4,
  "nbformat_minor": 0,
  "metadata": {
    "colab": {
      "provenance": []
    },
    "kernelspec": {
      "name": "python3",
      "display_name": "Python 3"
    },
    "language_info": {
      "name": "python"
    }
  },
  "cells": [
    {
      "cell_type": "code",
      "execution_count": 3,
      "metadata": {
        "colab": {
          "base_uri": "https://localhost:8080/"
        },
        "id": "M9IrMgqETCWz",
        "outputId": "afd9f5ba-fcf4-4a0b-95f3-04529c2ba28a"
      },
      "outputs": [
        {
          "output_type": "stream",
          "name": "stdout",
          "text": [
            "Enter a password to check its strength: DhruvPatel@#$9823\n",
            "Password Strength: Strong\n",
            "Score: 8/8\n",
            "Feedback: Password length is strong.\n",
            "Password complexity is strong.\n",
            "Password uniqueness is good.\n"
          ]
        }
      ],
      "source": [
        "import re\n",
        "\n",
        "# Comprehensive dictionary words list should be used in a real-world scenario\n",
        "COMMON_WORDS = {\"password\", \"123456\", \"12345678\", \"qwerty\", \"abc123\", \"monkey\", \"letmein\"}\n",
        "\n",
        "def check_length(password):\n",
        "    \"\"\"Check if the password length is sufficient.\"\"\"\n",
        "    length = len(password)\n",
        "    if length < 8:\n",
        "        return 0, \"Password is too short. It should be at least 8 characters long.\"\n",
        "    elif length <= 12:\n",
        "        return 1, \"Password length is adequate, but longer passwords are more secure.\"\n",
        "    else:\n",
        "        return 2, \"Password length is strong.\"\n",
        "\n",
        "def check_complexity(password):\n",
        "    \"\"\"Check if the password contains a mix of character types.\"\"\"\n",
        "    complexity_score = 0\n",
        "    feedback = []\n",
        "\n",
        "    patterns = [\n",
        "        (r'[a-z]', \"Add lowercase letters.\"),\n",
        "        (r'[A-Z]', \"Add uppercase letters.\"),\n",
        "        (r'[0-9]', \"Add numbers.\"),\n",
        "        (r'[!@#$%^&*(),.?\":{}|<>]', \"Add special characters.\")\n",
        "    ]\n",
        "\n",
        "    for pattern, message in patterns:\n",
        "        if re.search(pattern, password):\n",
        "            complexity_score += 1\n",
        "        else:\n",
        "            feedback.append(message)\n",
        "\n",
        "    feedback_message = \"Password complexity is strong.\" if not feedback else \" \".join(feedback)\n",
        "\n",
        "    return complexity_score, feedback_message\n",
        "\n",
        "def check_uniqueness(password):\n",
        "    \"\"\"Check if the password avoids common patterns or dictionary words.\"\"\"\n",
        "    lower_password = password.lower().strip()\n",
        "    if lower_password in COMMON_WORDS:\n",
        "        return 0, \"Password is too common and easily guessable.\"\n",
        "    elif re.search(r'(.)\\1{2,}', password):\n",
        "        return 0, \"Password contains repeated characters.\"\n",
        "    else:\n",
        "        return 2, \"Password uniqueness is good.\"\n",
        "\n",
        "def password_strength_checker(password):\n",
        "    \"\"\"Evaluate the strength of the password.\"\"\"\n",
        "    password = password.strip()\n",
        "    length_score, length_feedback = check_length(password)\n",
        "    complexity_score, complexity_feedback = check_complexity(password)\n",
        "    uniqueness_score, uniqueness_feedback = check_uniqueness(password)\n",
        "\n",
        "    total_score = length_score + complexity_score + uniqueness_score\n",
        "    feedback = \"\\n\".join([length_feedback, complexity_feedback, uniqueness_feedback])\n",
        "\n",
        "    if total_score < 3:\n",
        "        strength = \"Weak\"\n",
        "    elif total_score < 5:\n",
        "        strength = \"Moderate\"\n",
        "    else:\n",
        "        strength = \"Strong\"\n",
        "\n",
        "    return {\n",
        "        \"strength\": strength,\n",
        "        \"score\": total_score,\n",
        "        \"feedback\": feedback\n",
        "    }\n",
        "\n",
        "# User input\n",
        "password = input(\"Enter a password to check its strength: \")\n",
        "result = password_strength_checker(password)\n",
        "print(f\"Password Strength: {result['strength']}\")\n",
        "print(f\"Score: {result['score']}/8\")\n",
        "print(f\"Feedback: {result['feedback']}\")\n"
      ]
    }
  ]
}